{
  "nbformat": 4,
  "nbformat_minor": 0,
  "metadata": {
    "colab": {
      "name": "tracknet_test.ipynb",
      "version": "0.3.2",
      "provenance": [],
      "collapsed_sections": [],
      "include_colab_link": true
    },
    "kernelspec": {
      "name": "python2",
      "display_name": "Python 2"
    },
    "accelerator": "GPU"
  },
  "cells": [
    {
      "cell_type": "markdown",
      "metadata": {
        "id": "view-in-github",
        "colab_type": "text"
      },
      "source": [
        "<a href=\"https://colab.research.google.com/github/nyck33/tennisball-tracker/blob/master/tracknet_test.ipynb\" target=\"_parent\"><img src=\"https://colab.research.google.com/assets/colab-badge.svg\" alt=\"Open In Colab\"/></a>"
      ]
    },
    {
      "cell_type": "code",
      "metadata": {
        "id": "-FotVUyHsr9i",
        "colab_type": "code",
        "colab": {
          "base_uri": "https://localhost:8080/",
          "height": 694
        },
        "outputId": "ac027df3-38af-46ff-b902-e7832b7c56e5"
      },
      "source": [
        "!pip install numpy\n",
        "!pip install matplotlib\n",
        "!pip install pillow\n",
        "!pip install keras\n",
        "!pip install opencv-python\n",
        "!pip install pydot\n",
        "!pip install h5py\n",
        "!apt-get install graphviz"
      ],
      "execution_count": 52,
      "outputs": [
        {
          "output_type": "stream",
          "text": [
            "Requirement already satisfied: numpy in /usr/local/lib/python2.7/dist-packages (1.16.4)\n",
            "Requirement already satisfied: matplotlib in /usr/local/lib/python2.7/dist-packages (2.2.4)\n",
            "Requirement already satisfied: cycler>=0.10 in /usr/local/lib/python2.7/dist-packages (from matplotlib) (0.10.0)\n",
            "Requirement already satisfied: numpy>=1.7.1 in /usr/local/lib/python2.7/dist-packages (from matplotlib) (1.16.4)\n",
            "Requirement already satisfied: backports.functools-lru-cache in /usr/local/lib/python2.7/dist-packages (from matplotlib) (1.5)\n",
            "Requirement already satisfied: subprocess32 in /usr/local/lib/python2.7/dist-packages (from matplotlib) (3.5.4)\n",
            "Requirement already satisfied: kiwisolver>=1.0.1 in /usr/local/lib/python2.7/dist-packages (from matplotlib) (1.1.0)\n",
            "Requirement already satisfied: pytz in /usr/local/lib/python2.7/dist-packages (from matplotlib) (2018.9)\n",
            "Requirement already satisfied: six>=1.10 in /usr/local/lib/python2.7/dist-packages (from matplotlib) (1.12.0)\n",
            "Requirement already satisfied: python-dateutil>=2.1 in /usr/local/lib/python2.7/dist-packages (from matplotlib) (2.5.3)\n",
            "Requirement already satisfied: pyparsing!=2.0.4,!=2.1.2,!=2.1.6,>=2.0.1 in /usr/local/lib/python2.7/dist-packages (from matplotlib) (2.4.0)\n",
            "Requirement already satisfied: setuptools in /usr/local/lib/python2.7/dist-packages (from kiwisolver>=1.0.1->matplotlib) (41.0.1)\n",
            "Requirement already satisfied: pillow in /usr/local/lib/python2.7/dist-packages (4.3.0)\n",
            "Requirement already satisfied: olefile in /usr/local/lib/python2.7/dist-packages (from pillow) (0.46)\n",
            "Requirement already satisfied: keras in /usr/local/lib/python2.7/dist-packages (2.2.4)\n",
            "Requirement already satisfied: keras-applications>=1.0.6 in /usr/local/lib/python2.7/dist-packages (from keras) (1.0.8)\n",
            "Requirement already satisfied: numpy>=1.9.1 in /usr/local/lib/python2.7/dist-packages (from keras) (1.16.4)\n",
            "Requirement already satisfied: keras-preprocessing>=1.0.5 in /usr/local/lib/python2.7/dist-packages (from keras) (1.1.0)\n",
            "Requirement already satisfied: scipy>=0.14 in /usr/local/lib/python2.7/dist-packages (from keras) (1.2.2)\n",
            "Requirement already satisfied: h5py in /usr/local/lib/python2.7/dist-packages (from keras) (2.8.0)\n",
            "Requirement already satisfied: pyyaml in /usr/local/lib/python2.7/dist-packages (from keras) (3.13)\n",
            "Requirement already satisfied: six>=1.9.0 in /usr/local/lib/python2.7/dist-packages (from keras) (1.12.0)\n",
            "Requirement already satisfied: opencv-python in /usr/local/lib/python2.7/dist-packages (3.4.5.20)\n",
            "Requirement already satisfied: numpy>=1.11.1 in /usr/local/lib/python2.7/dist-packages (from opencv-python) (1.16.4)\n",
            "Requirement already satisfied: pydot in /usr/local/lib/python2.7/dist-packages (1.3.0)\n",
            "Requirement already satisfied: pyparsing>=2.1.4 in /usr/local/lib/python2.7/dist-packages (from pydot) (2.4.0)\n",
            "Requirement already satisfied: h5py in /usr/local/lib/python2.7/dist-packages (2.8.0)\n",
            "Requirement already satisfied: numpy>=1.7 in /usr/local/lib/python2.7/dist-packages (from h5py) (1.16.4)\n",
            "Requirement already satisfied: six in /usr/local/lib/python2.7/dist-packages (from h5py) (1.12.0)\n",
            "Reading package lists... Done\n",
            "Building dependency tree       \n",
            "Reading state information... Done\n",
            "graphviz is already the newest version (2.40.1-2).\n",
            "The following package was automatically installed and is no longer required:\n",
            "  libnvidia-common-410\n",
            "Use 'apt autoremove' to remove it.\n",
            "0 upgraded, 0 newly installed, 0 to remove and 121 not upgraded.\n"
          ],
          "name": "stdout"
        }
      ]
    },
    {
      "cell_type": "code",
      "metadata": {
        "id": "f_gr2UtHIfL9",
        "colab_type": "code",
        "colab": {
          "base_uri": "https://localhost:8080/",
          "height": 54
        },
        "outputId": "b870ca94-34d1-44c3-c070-79610cb5bdcc"
      },
      "source": [
        "from google.colab import drive\n",
        "drive.mount('/content/drive')"
      ],
      "execution_count": 16,
      "outputs": [
        {
          "output_type": "stream",
          "text": [
            "Drive already mounted at /content/drive; to attempt to forcibly remount, call drive.mount(\"/content/drive\", force_remount=True).\n"
          ],
          "name": "stdout"
        }
      ]
    },
    {
      "cell_type": "code",
      "metadata": {
        "id": "6WV9bXQdYO9y",
        "colab_type": "code",
        "colab": {
          "base_uri": "https://localhost:8080/",
          "height": 34
        },
        "outputId": "2acf4b29-c60e-4b3c-dd4d-d4dacbbff1b3"
      },
      "source": [
        "drive.mount(\"/content/drive\", force_remount=True)"
      ],
      "execution_count": 32,
      "outputs": [
        {
          "output_type": "stream",
          "text": [
            "Mounted at /content/drive\n"
          ],
          "name": "stdout"
        }
      ]
    },
    {
      "cell_type": "code",
      "metadata": {
        "id": "MIc4NSxanHrR",
        "colab_type": "code",
        "colab": {
          "base_uri": "https://localhost:8080/",
          "height": 250
        },
        "outputId": "67450ab9-dd41-4f79-9d62-3a0e5933a439"
      },
      "source": [
        "!apt-get install -y -qq software-properties-common python-software-properties module-init-tools\n",
        "!add-apt-repository -y ppa:alessandro-strada/ppa 2>&1 > /dev/null\n",
        "!apt-get update -qq 2>&1 > /dev/null\n",
        "!apt-get -y install -qq google-drive-ocamlfuse fuse\n",
        "from google.colab import auth\n",
        "auth.authenticate_user()\n",
        "from oauth2client.client import GoogleCredentials\n",
        "creds = GoogleCredentials.get_application_default()\n",
        "import getpass\n",
        "!google-drive-ocamlfuse -headless -id={creds.client_id} -secret={creds.client_secret} < /dev/null 2>&1 | grep URL\n",
        "vcode = getpass.getpass()\n",
        "!echo {vcode} | google-drive-ocamlfuse -headless -id={creds.client_id} -secret={creds.client_secret}"
      ],
      "execution_count": 30,
      "outputs": [
        {
          "output_type": "stream",
          "text": [
            "E: Package 'python-software-properties' has no installation candidate\n",
            "Selecting previously unselected package google-drive-ocamlfuse.\n",
            "(Reading database ... 130912 files and directories currently installed.)\n",
            "Preparing to unpack .../google-drive-ocamlfuse_0.7.3-0ubuntu3~ubuntu18.04.1_amd64.deb ...\n",
            "Unpacking google-drive-ocamlfuse (0.7.3-0ubuntu3~ubuntu18.04.1) ...\n",
            "Setting up google-drive-ocamlfuse (0.7.3-0ubuntu3~ubuntu18.04.1) ...\n",
            "Processing triggers for man-db (2.8.3-2ubuntu0.1) ...\n",
            "Please, open the following URL in a web browser: https://accounts.google.com/o/oauth2/auth?client_id=32555940559.apps.googleusercontent.com&redirect_uri=urn%3Aietf%3Awg%3Aoauth%3A2.0%3Aoob&scope=https%3A%2F%2Fwww.googleapis.com%2Fauth%2Fdrive&response_type=code&access_type=offline&approval_prompt=force\n",
            "··········\n",
            "Please, open the following URL in a web browser: https://accounts.google.com/o/oauth2/auth?client_id=32555940559.apps.googleusercontent.com&redirect_uri=urn%3Aietf%3Awg%3Aoauth%3A2.0%3Aoob&scope=https%3A%2F%2Fwww.googleapis.com%2Fauth%2Fdrive&response_type=code&access_type=offline&approval_prompt=force\n",
            "Please enter the verification code: Cannot retrieve auth tokens.\n",
            "Failure(\"Unexpected error response: {\\n  \\\"error\\\": \\\"invalid_grant\\\",\\n  \\\"error_description\\\": \\\"Bad Request\\\"\\n}\")\n"
          ],
          "name": "stdout"
        }
      ]
    },
    {
      "cell_type": "code",
      "metadata": {
        "id": "lRfm-O22S7Tj",
        "colab_type": "code",
        "colab": {
          "base_uri": "https://localhost:8080/",
          "height": 52
        },
        "outputId": "9d336d6d-78bf-49a6-b535-dcdb41533c3f"
      },
      "source": [
        "%cd /content/drive/\"My Drive\"/TrackNet-master/Code/TrackNet_Three_Frames_Input \n",
        "!pwd\n"
      ],
      "execution_count": 49,
      "outputs": [
        {
          "output_type": "stream",
          "text": [
            "/content/drive/My Drive/TrackNet-master/Code/TrackNet_Three_Frames_Input\n",
            "/content/drive/My Drive/TrackNet-master/Code/TrackNet_Three_Frames_Input\n"
          ],
          "name": "stdout"
        }
      ]
    },
    {
      "cell_type": "code",
      "metadata": {
        "id": "un5074h3scyY",
        "colab_type": "code",
        "colab": {
          "base_uri": "https://localhost:8080/",
          "height": 3414
        },
        "outputId": "21e4e4d1-e0c1-49c9-a41d-22e842fbcc87"
      },
      "source": [
        "!python predict_video.py  --save_weights_path=weights/model.3 --input_video_path=\"fedNadal.mp4\" --output_video_path=\"fedNadal_TrackNet.mp4\" --n_classes=256 "
      ],
      "execution_count": 53,
      "outputs": [
        {
          "output_type": "stream",
          "text": [
            "Using TensorFlow backend.\n",
            "WARNING: Logging before flag parsing goes to stderr.\n",
            "W0616 09:53:25.354907 140167546251136 deprecation_wrapper.py:119] From /usr/local/lib/python2.7/dist-packages/keras/backend/tensorflow_backend.py:74: The name tf.get_default_graph is deprecated. Please use tf.compat.v1.get_default_graph instead.\n",
            "\n",
            "W0616 09:53:25.366676 140167546251136 deprecation_wrapper.py:119] From /usr/local/lib/python2.7/dist-packages/keras/backend/tensorflow_backend.py:517: The name tf.placeholder is deprecated. Please use tf.compat.v1.placeholder instead.\n",
            "\n",
            "W0616 09:53:25.368680 140167546251136 deprecation_wrapper.py:119] From /usr/local/lib/python2.7/dist-packages/keras/backend/tensorflow_backend.py:4138: The name tf.random_uniform is deprecated. Please use tf.random.uniform instead.\n",
            "\n",
            "W0616 09:53:25.379010 140167546251136 deprecation_wrapper.py:119] From /usr/local/lib/python2.7/dist-packages/keras/backend/tensorflow_backend.py:174: The name tf.get_default_session is deprecated. Please use tf.compat.v1.get_default_session instead.\n",
            "\n",
            "W0616 09:53:25.379185 140167546251136 deprecation_wrapper.py:119] From /usr/local/lib/python2.7/dist-packages/keras/backend/tensorflow_backend.py:181: The name tf.ConfigProto is deprecated. Please use tf.compat.v1.ConfigProto instead.\n",
            "\n",
            "2019-06-16 09:53:25.384351: I tensorflow/core/platform/profile_utils/cpu_utils.cc:94] CPU Frequency: 2300000000 Hz\n",
            "2019-06-16 09:53:25.384599: I tensorflow/compiler/xla/service/service.cc:168] XLA service 0x558e6e938d80 executing computations on platform Host. Devices:\n",
            "2019-06-16 09:53:25.384628: I tensorflow/compiler/xla/service/service.cc:175]   StreamExecutor device (0): <undefined>, <undefined>\n",
            "2019-06-16 09:53:25.386922: I tensorflow/stream_executor/platform/default/dso_loader.cc:42] Successfully opened dynamic library libcuda.so.1\n",
            "2019-06-16 09:53:25.579590: I tensorflow/stream_executor/cuda/cuda_gpu_executor.cc:1005] successful NUMA node read from SysFS had negative value (-1), but there must be at least one NUMA node, so returning NUMA node zero\n",
            "2019-06-16 09:53:25.580131: I tensorflow/compiler/xla/service/service.cc:168] XLA service 0x558e6e939100 executing computations on platform CUDA. Devices:\n",
            "2019-06-16 09:53:25.580162: I tensorflow/compiler/xla/service/service.cc:175]   StreamExecutor device (0): Tesla T4, Compute Capability 7.5\n",
            "2019-06-16 09:53:25.580412: I tensorflow/stream_executor/cuda/cuda_gpu_executor.cc:1005] successful NUMA node read from SysFS had negative value (-1), but there must be at least one NUMA node, so returning NUMA node zero\n",
            "2019-06-16 09:53:25.580879: I tensorflow/core/common_runtime/gpu/gpu_device.cc:1640] Found device 0 with properties: \n",
            "name: Tesla T4 major: 7 minor: 5 memoryClockRate(GHz): 1.59\n",
            "pciBusID: 0000:00:04.0\n",
            "2019-06-16 09:53:25.581251: I tensorflow/stream_executor/platform/default/dso_loader.cc:42] Successfully opened dynamic library libcudart.so.10.0\n",
            "2019-06-16 09:53:25.582576: I tensorflow/stream_executor/platform/default/dso_loader.cc:42] Successfully opened dynamic library libcublas.so.10.0\n",
            "2019-06-16 09:53:25.583888: I tensorflow/stream_executor/platform/default/dso_loader.cc:42] Successfully opened dynamic library libcufft.so.10.0\n",
            "2019-06-16 09:53:25.584237: I tensorflow/stream_executor/platform/default/dso_loader.cc:42] Successfully opened dynamic library libcurand.so.10.0\n",
            "2019-06-16 09:53:25.585772: I tensorflow/stream_executor/platform/default/dso_loader.cc:42] Successfully opened dynamic library libcusolver.so.10.0\n",
            "2019-06-16 09:53:25.586873: I tensorflow/stream_executor/platform/default/dso_loader.cc:42] Successfully opened dynamic library libcusparse.so.10.0\n",
            "2019-06-16 09:53:25.590161: I tensorflow/stream_executor/platform/default/dso_loader.cc:42] Successfully opened dynamic library libcudnn.so.7\n",
            "2019-06-16 09:53:25.590301: I tensorflow/stream_executor/cuda/cuda_gpu_executor.cc:1005] successful NUMA node read from SysFS had negative value (-1), but there must be at least one NUMA node, so returning NUMA node zero\n",
            "2019-06-16 09:53:25.590728: I tensorflow/stream_executor/cuda/cuda_gpu_executor.cc:1005] successful NUMA node read from SysFS had negative value (-1), but there must be at least one NUMA node, so returning NUMA node zero\n",
            "2019-06-16 09:53:25.591077: I tensorflow/core/common_runtime/gpu/gpu_device.cc:1763] Adding visible gpu devices: 0\n",
            "2019-06-16 09:53:25.591156: I tensorflow/stream_executor/platform/default/dso_loader.cc:42] Successfully opened dynamic library libcudart.so.10.0\n",
            "2019-06-16 09:53:25.592066: I tensorflow/core/common_runtime/gpu/gpu_device.cc:1181] Device interconnect StreamExecutor with strength 1 edge matrix:\n",
            "2019-06-16 09:53:25.592094: I tensorflow/core/common_runtime/gpu/gpu_device.cc:1187]      0 \n",
            "2019-06-16 09:53:25.592105: I tensorflow/core/common_runtime/gpu/gpu_device.cc:1200] 0:   N \n",
            "2019-06-16 09:53:25.592419: I tensorflow/stream_executor/cuda/cuda_gpu_executor.cc:1005] successful NUMA node read from SysFS had negative value (-1), but there must be at least one NUMA node, so returning NUMA node zero\n",
            "2019-06-16 09:53:25.592822: I tensorflow/stream_executor/cuda/cuda_gpu_executor.cc:1005] successful NUMA node read from SysFS had negative value (-1), but there must be at least one NUMA node, so returning NUMA node zero\n",
            "2019-06-16 09:53:25.593177: W tensorflow/core/common_runtime/gpu/gpu_bfc_allocator.cc:40] Overriding allow_growth setting because the TF_FORCE_GPU_ALLOW_GROWTH environment variable is set. Original config value was 0.\n",
            "2019-06-16 09:53:25.593229: I tensorflow/core/common_runtime/gpu/gpu_device.cc:1326] Created TensorFlow device (/job:localhost/replica:0/task:0/device:GPU:0 with 14202 MB memory) -> physical GPU (device: 0, name: Tesla T4, pci bus id: 0000:00:04.0, compute capability: 7.5)\n",
            "W0616 09:53:26.242765 140167546251136 deprecation_wrapper.py:119] From /usr/local/lib/python2.7/dist-packages/keras/backend/tensorflow_backend.py:1834: The name tf.nn.fused_batch_norm is deprecated. Please use tf.compat.v1.nn.fused_batch_norm instead.\n",
            "\n",
            "W0616 09:53:26.368081 140167546251136 deprecation_wrapper.py:119] From /usr/local/lib/python2.7/dist-packages/keras/backend/tensorflow_backend.py:3976: The name tf.nn.max_pool is deprecated. Please use tf.nn.max_pool2d instead.\n",
            "\n",
            "W0616 09:53:27.045891 140167546251136 deprecation_wrapper.py:119] From /usr/local/lib/python2.7/dist-packages/keras/backend/tensorflow_backend.py:2018: The name tf.image.resize_nearest_neighbor is deprecated. Please use tf.compat.v1.image.resize_nearest_neighbor instead.\n",
            "\n",
            "layer24 output shape: 256 360 640\n",
            "_________________________________________________________________\n",
            "Layer (type)                 Output Shape              Param #   \n",
            "=================================================================\n",
            "input_1 (InputLayer)         (None, 9, 360, 640)       0         \n",
            "_________________________________________________________________\n",
            "conv2d_1 (Conv2D)            (None, 64, 360, 640)      5248      \n",
            "_________________________________________________________________\n",
            "activation_1 (Activation)    (None, 64, 360, 640)      0         \n",
            "_________________________________________________________________\n",
            "batch_normalization_1 (Batch (None, 64, 360, 640)      2560      \n",
            "_________________________________________________________________\n",
            "conv2d_2 (Conv2D)            (None, 64, 360, 640)      36928     \n",
            "_________________________________________________________________\n",
            "activation_2 (Activation)    (None, 64, 360, 640)      0         \n",
            "_________________________________________________________________\n",
            "batch_normalization_2 (Batch (None, 64, 360, 640)      2560      \n",
            "_________________________________________________________________\n",
            "max_pooling2d_1 (MaxPooling2 (None, 64, 180, 320)      0         \n",
            "_________________________________________________________________\n",
            "conv2d_3 (Conv2D)            (None, 128, 180, 320)     73856     \n",
            "_________________________________________________________________\n",
            "activation_3 (Activation)    (None, 128, 180, 320)     0         \n",
            "_________________________________________________________________\n",
            "batch_normalization_3 (Batch (None, 128, 180, 320)     1280      \n",
            "_________________________________________________________________\n",
            "conv2d_4 (Conv2D)            (None, 128, 180, 320)     147584    \n",
            "_________________________________________________________________\n",
            "activation_4 (Activation)    (None, 128, 180, 320)     0         \n",
            "_________________________________________________________________\n",
            "batch_normalization_4 (Batch (None, 128, 180, 320)     1280      \n",
            "_________________________________________________________________\n",
            "max_pooling2d_2 (MaxPooling2 (None, 128, 90, 160)      0         \n",
            "_________________________________________________________________\n",
            "conv2d_5 (Conv2D)            (None, 256, 90, 160)      295168    \n",
            "_________________________________________________________________\n",
            "activation_5 (Activation)    (None, 256, 90, 160)      0         \n",
            "_________________________________________________________________\n",
            "batch_normalization_5 (Batch (None, 256, 90, 160)      640       \n",
            "_________________________________________________________________\n",
            "conv2d_6 (Conv2D)            (None, 256, 90, 160)      590080    \n",
            "_________________________________________________________________\n",
            "activation_6 (Activation)    (None, 256, 90, 160)      0         \n",
            "_________________________________________________________________\n",
            "batch_normalization_6 (Batch (None, 256, 90, 160)      640       \n",
            "_________________________________________________________________\n",
            "conv2d_7 (Conv2D)            (None, 256, 90, 160)      590080    \n",
            "_________________________________________________________________\n",
            "activation_7 (Activation)    (None, 256, 90, 160)      0         \n",
            "_________________________________________________________________\n",
            "batch_normalization_7 (Batch (None, 256, 90, 160)      640       \n",
            "_________________________________________________________________\n",
            "max_pooling2d_3 (MaxPooling2 (None, 256, 45, 80)       0         \n",
            "_________________________________________________________________\n",
            "conv2d_8 (Conv2D)            (None, 512, 45, 80)       1180160   \n",
            "_________________________________________________________________\n",
            "activation_8 (Activation)    (None, 512, 45, 80)       0         \n",
            "_________________________________________________________________\n",
            "batch_normalization_8 (Batch (None, 512, 45, 80)       320       \n",
            "_________________________________________________________________\n",
            "conv2d_9 (Conv2D)            (None, 512, 45, 80)       2359808   \n",
            "_________________________________________________________________\n",
            "activation_9 (Activation)    (None, 512, 45, 80)       0         \n",
            "_________________________________________________________________\n",
            "batch_normalization_9 (Batch (None, 512, 45, 80)       320       \n",
            "_________________________________________________________________\n",
            "conv2d_10 (Conv2D)           (None, 512, 45, 80)       2359808   \n",
            "_________________________________________________________________\n",
            "activation_10 (Activation)   (None, 512, 45, 80)       0         \n",
            "_________________________________________________________________\n",
            "batch_normalization_10 (Batc (None, 512, 45, 80)       320       \n",
            "_________________________________________________________________\n",
            "up_sampling2d_1 (UpSampling2 (None, 512, 90, 160)      0         \n",
            "_________________________________________________________________\n",
            "conv2d_11 (Conv2D)           (None, 256, 90, 160)      1179904   \n",
            "_________________________________________________________________\n",
            "activation_11 (Activation)   (None, 256, 90, 160)      0         \n",
            "_________________________________________________________________\n",
            "batch_normalization_11 (Batc (None, 256, 90, 160)      640       \n",
            "_________________________________________________________________\n",
            "conv2d_12 (Conv2D)           (None, 256, 90, 160)      590080    \n",
            "_________________________________________________________________\n",
            "activation_12 (Activation)   (None, 256, 90, 160)      0         \n",
            "_________________________________________________________________\n",
            "batch_normalization_12 (Batc (None, 256, 90, 160)      640       \n",
            "_________________________________________________________________\n",
            "conv2d_13 (Conv2D)           (None, 256, 90, 160)      590080    \n",
            "_________________________________________________________________\n",
            "activation_13 (Activation)   (None, 256, 90, 160)      0         \n",
            "_________________________________________________________________\n",
            "batch_normalization_13 (Batc (None, 256, 90, 160)      640       \n",
            "_________________________________________________________________\n",
            "up_sampling2d_2 (UpSampling2 (None, 256, 180, 320)     0         \n",
            "_________________________________________________________________\n",
            "conv2d_14 (Conv2D)           (None, 128, 180, 320)     295040    \n",
            "_________________________________________________________________\n",
            "activation_14 (Activation)   (None, 128, 180, 320)     0         \n",
            "_________________________________________________________________\n",
            "batch_normalization_14 (Batc (None, 128, 180, 320)     1280      \n",
            "_________________________________________________________________\n",
            "conv2d_15 (Conv2D)           (None, 128, 180, 320)     147584    \n",
            "_________________________________________________________________\n",
            "activation_15 (Activation)   (None, 128, 180, 320)     0         \n",
            "_________________________________________________________________\n",
            "batch_normalization_15 (Batc (None, 128, 180, 320)     1280      \n",
            "_________________________________________________________________\n",
            "up_sampling2d_3 (UpSampling2 (None, 128, 360, 640)     0         \n",
            "_________________________________________________________________\n",
            "conv2d_16 (Conv2D)           (None, 64, 360, 640)      73792     \n",
            "_________________________________________________________________\n",
            "activation_16 (Activation)   (None, 64, 360, 640)      0         \n",
            "_________________________________________________________________\n",
            "batch_normalization_16 (Batc (None, 64, 360, 640)      2560      \n",
            "_________________________________________________________________\n",
            "conv2d_17 (Conv2D)           (None, 64, 360, 640)      36928     \n",
            "_________________________________________________________________\n",
            "activation_17 (Activation)   (None, 64, 360, 640)      0         \n",
            "_________________________________________________________________\n",
            "batch_normalization_17 (Batc (None, 64, 360, 640)      2560      \n",
            "_________________________________________________________________\n",
            "conv2d_18 (Conv2D)           (None, 256, 360, 640)     147712    \n",
            "_________________________________________________________________\n",
            "activation_18 (Activation)   (None, 256, 360, 640)     0         \n",
            "_________________________________________________________________\n",
            "batch_normalization_18 (Batc (None, 256, 360, 640)     2560      \n",
            "_________________________________________________________________\n",
            "reshape_1 (Reshape)          (None, 256, 230400)       0         \n",
            "_________________________________________________________________\n",
            "permute_1 (Permute)          (None, 230400, 256)       0         \n",
            "_________________________________________________________________\n",
            "activation_19 (Activation)   (None, 230400, 256)       0         \n",
            "=================================================================\n",
            "Total params: 10,722,560\n",
            "Trainable params: 10,711,200\n",
            "Non-trainable params: 11,360\n",
            "_________________________________________________________________\n",
            "W0616 09:53:27.641202 140167546251136 deprecation_wrapper.py:119] From /usr/local/lib/python2.7/dist-packages/keras/optimizers.py:790: The name tf.train.Optimizer is deprecated. Please use tf.compat.v1.train.Optimizer instead.\n",
            "\n",
            "Traceback (most recent call last):\n",
            "  File \"predict_video.py\", line 63, in <module>\n",
            "    img1 = cv2.resize(img1, ( width , height ))\n",
            "cv2.error: OpenCV(3.4.3) /io/opencv/modules/imgproc/src/resize.cpp:4044: error: (-215:Assertion failed) !ssize.empty() in function 'resize'\n",
            "\n"
          ],
          "name": "stdout"
        }
      ]
    }
  ]
}