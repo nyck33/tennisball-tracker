{
  "nbformat": 4,
  "nbformat_minor": 0,
  "metadata": {
    "colab": {
      "name": "tracknet_vs_tako.ipynb",
      "version": "0.3.2",
      "provenance": [],
      "collapsed_sections": [],
      "toc_visible": true,
      "include_colab_link": true
    },
    "kernelspec": {
      "name": "python2",
      "display_name": "Python 2"
    }
  },
  "cells": [
    {
      "cell_type": "markdown",
      "metadata": {
        "id": "view-in-github",
        "colab_type": "text"
      },
      "source": [
        "<a href=\"https://colab.research.google.com/github/nyck33/tennisball-tracker/blob/master/tracknet_vs_tako.ipynb\" target=\"_parent\"><img src=\"https://colab.research.google.com/assets/colab-badge.svg\" alt=\"Open In Colab\"/></a>"
      ]
    },
    {
      "cell_type": "markdown",
      "metadata": {
        "id": "glaO5esS8kAH",
        "colab_type": "text"
      },
      "source": [
        "# TrackNet vs Tako\n",
        "\n",
        "Tried Tracknet on fedNadal.mp4 and notice that it picks up some balls on players, lines and other non-balls.  Also, it loses the ball a lot on serves and other high speed shots so want to test it against Tako ball tracker that uses the blob detection and try to combine the two methods to not lose the ball.\n",
        "Furthermore, try to use techniques in other papers to take away lines, players and audience areas.  \n",
        "Finally, need to somehow detect bounces still.  "
      ]
    },
    {
      "cell_type": "code",
      "metadata": {
        "id": "-FotVUyHsr9i",
        "colab_type": "code",
        "outputId": "14a71c3c-fcde-4034-b231-768d05c53497",
        "colab": {
          "base_uri": "https://localhost:8080/",
          "height": 685
        }
      },
      "source": [
        "!pip install numpy\n",
        "!pip install matplotlib\n",
        "!pip install pillow\n",
        "!pip install keras\n",
        "!pip install opencv-python\n",
        "!pip install pydot\n",
        "!pip install h5py\n",
        "!apt-get install graphviz"
      ],
      "execution_count": 0,
      "outputs": [
        {
          "output_type": "stream",
          "text": [
            "Requirement already satisfied: numpy in /usr/local/lib/python2.7/dist-packages (1.16.4)\n",
            "Requirement already satisfied: matplotlib in /usr/local/lib/python2.7/dist-packages (2.2.4)\n",
            "Requirement already satisfied: cycler>=0.10 in /usr/local/lib/python2.7/dist-packages (from matplotlib) (0.10.0)\n",
            "Requirement already satisfied: numpy>=1.7.1 in /usr/local/lib/python2.7/dist-packages (from matplotlib) (1.16.4)\n",
            "Requirement already satisfied: backports.functools-lru-cache in /usr/local/lib/python2.7/dist-packages (from matplotlib) (1.5)\n",
            "Requirement already satisfied: subprocess32 in /usr/local/lib/python2.7/dist-packages (from matplotlib) (3.5.4)\n",
            "Requirement already satisfied: kiwisolver>=1.0.1 in /usr/local/lib/python2.7/dist-packages (from matplotlib) (1.1.0)\n",
            "Requirement already satisfied: pytz in /usr/local/lib/python2.7/dist-packages (from matplotlib) (2018.9)\n",
            "Requirement already satisfied: six>=1.10 in /usr/local/lib/python2.7/dist-packages (from matplotlib) (1.12.0)\n",
            "Requirement already satisfied: python-dateutil>=2.1 in /usr/local/lib/python2.7/dist-packages (from matplotlib) (2.5.3)\n",
            "Requirement already satisfied: pyparsing!=2.0.4,!=2.1.2,!=2.1.6,>=2.0.1 in /usr/local/lib/python2.7/dist-packages (from matplotlib) (2.4.0)\n",
            "Requirement already satisfied: setuptools in /usr/local/lib/python2.7/dist-packages (from kiwisolver>=1.0.1->matplotlib) (41.0.1)\n",
            "Requirement already satisfied: pillow in /usr/local/lib/python2.7/dist-packages (4.3.0)\n",
            "Requirement already satisfied: olefile in /usr/local/lib/python2.7/dist-packages (from pillow) (0.46)\n"
          ],
          "name": "stdout"
        },
        {
          "output_type": "error",
          "ename": "KeyboardInterrupt",
          "evalue": "ignored",
          "traceback": [
            "\u001b[0;31m\u001b[0m",
            "\u001b[0;31mKeyboardInterrupt\u001b[0mTraceback (most recent call last)",
            "\u001b[0;32m<ipython-input-1-be71b5040292>\u001b[0m in \u001b[0;36m<module>\u001b[0;34m()\u001b[0m\n\u001b[1;32m      2\u001b[0m \u001b[0mget_ipython\u001b[0m\u001b[0;34m(\u001b[0m\u001b[0;34m)\u001b[0m\u001b[0;34m.\u001b[0m\u001b[0msystem\u001b[0m\u001b[0;34m(\u001b[0m\u001b[0;34mu'pip install matplotlib'\u001b[0m\u001b[0;34m)\u001b[0m\u001b[0;34m\u001b[0m\u001b[0m\n\u001b[1;32m      3\u001b[0m \u001b[0mget_ipython\u001b[0m\u001b[0;34m(\u001b[0m\u001b[0;34m)\u001b[0m\u001b[0;34m.\u001b[0m\u001b[0msystem\u001b[0m\u001b[0;34m(\u001b[0m\u001b[0;34mu'pip install pillow'\u001b[0m\u001b[0;34m)\u001b[0m\u001b[0;34m\u001b[0m\u001b[0m\n\u001b[0;32m----> 4\u001b[0;31m \u001b[0mget_ipython\u001b[0m\u001b[0;34m(\u001b[0m\u001b[0;34m)\u001b[0m\u001b[0;34m.\u001b[0m\u001b[0msystem\u001b[0m\u001b[0;34m(\u001b[0m\u001b[0;34mu'pip install keras'\u001b[0m\u001b[0;34m)\u001b[0m\u001b[0;34m\u001b[0m\u001b[0m\n\u001b[0m\u001b[1;32m      5\u001b[0m \u001b[0mget_ipython\u001b[0m\u001b[0;34m(\u001b[0m\u001b[0;34m)\u001b[0m\u001b[0;34m.\u001b[0m\u001b[0msystem\u001b[0m\u001b[0;34m(\u001b[0m\u001b[0;34mu'pip install opencv-python'\u001b[0m\u001b[0;34m)\u001b[0m\u001b[0;34m\u001b[0m\u001b[0m\n\u001b[1;32m      6\u001b[0m \u001b[0mget_ipython\u001b[0m\u001b[0;34m(\u001b[0m\u001b[0;34m)\u001b[0m\u001b[0;34m.\u001b[0m\u001b[0msystem\u001b[0m\u001b[0;34m(\u001b[0m\u001b[0;34mu'pip install pydot'\u001b[0m\u001b[0;34m)\u001b[0m\u001b[0;34m\u001b[0m\u001b[0m\n",
            "\u001b[0;32m/usr/local/lib/python2.7/dist-packages/google/colab/_shell.pyc\u001b[0m in \u001b[0;36msystem\u001b[0;34m(self, *args, **kwargs)\u001b[0m\n\u001b[1;32m     72\u001b[0m       \u001b[0mkwargs\u001b[0m\u001b[0;34m.\u001b[0m\u001b[0mupdate\u001b[0m\u001b[0;34m(\u001b[0m\u001b[0;34m{\u001b[0m\u001b[0;34m'also_return_output'\u001b[0m\u001b[0;34m:\u001b[0m \u001b[0mTrue\u001b[0m\u001b[0;34m}\u001b[0m\u001b[0;34m)\u001b[0m\u001b[0;34m\u001b[0m\u001b[0m\n\u001b[1;32m     73\u001b[0m \u001b[0;34m\u001b[0m\u001b[0m\n\u001b[0;32m---> 74\u001b[0;31m     \u001b[0moutput\u001b[0m \u001b[0;34m=\u001b[0m \u001b[0m_system_commands\u001b[0m\u001b[0;34m.\u001b[0m\u001b[0m_system_compat\u001b[0m\u001b[0;34m(\u001b[0m\u001b[0mself\u001b[0m\u001b[0;34m,\u001b[0m \u001b[0;34m*\u001b[0m\u001b[0margs\u001b[0m\u001b[0;34m,\u001b[0m \u001b[0;34m**\u001b[0m\u001b[0mkwargs\u001b[0m\u001b[0;34m)\u001b[0m  \u001b[0;31m# pylint:disable=protected-access\u001b[0m\u001b[0;34m\u001b[0m\u001b[0m\n\u001b[0m\u001b[1;32m     75\u001b[0m \u001b[0;34m\u001b[0m\u001b[0m\n\u001b[1;32m     76\u001b[0m     \u001b[0;32mif\u001b[0m \u001b[0mpip_warn\u001b[0m\u001b[0;34m:\u001b[0m\u001b[0;34m\u001b[0m\u001b[0m\n",
            "\u001b[0;32m/usr/local/lib/python2.7/dist-packages/google/colab/_system_commands.pyc\u001b[0m in \u001b[0;36m_system_compat\u001b[0;34m(shell, cmd, also_return_output)\u001b[0m\n\u001b[1;32m    436\u001b[0m   \u001b[0;31m# stack.\u001b[0m\u001b[0;34m\u001b[0m\u001b[0;34m\u001b[0m\u001b[0m\n\u001b[1;32m    437\u001b[0m   result = _run_command(\n\u001b[0;32m--> 438\u001b[0;31m       shell.var_expand(cmd, depth=2), clear_streamed_output=False)\n\u001b[0m\u001b[1;32m    439\u001b[0m   \u001b[0mshell\u001b[0m\u001b[0;34m.\u001b[0m\u001b[0muser_ns\u001b[0m\u001b[0;34m[\u001b[0m\u001b[0;34m'_exit_code'\u001b[0m\u001b[0;34m]\u001b[0m \u001b[0;34m=\u001b[0m \u001b[0mresult\u001b[0m\u001b[0;34m.\u001b[0m\u001b[0mreturncode\u001b[0m\u001b[0;34m\u001b[0m\u001b[0m\n\u001b[1;32m    440\u001b[0m   \u001b[0;32mif\u001b[0m \u001b[0;34m-\u001b[0m\u001b[0mresult\u001b[0m\u001b[0;34m.\u001b[0m\u001b[0mreturncode\u001b[0m \u001b[0;32min\u001b[0m \u001b[0m_INTERRUPTED_SIGNALS\u001b[0m\u001b[0;34m:\u001b[0m\u001b[0;34m\u001b[0m\u001b[0m\n",
            "\u001b[0;32m/usr/local/lib/python2.7/dist-packages/google/colab/_system_commands.pyc\u001b[0m in \u001b[0;36m_run_command\u001b[0;34m(cmd, clear_streamed_output)\u001b[0m\n\u001b[1;32m    179\u001b[0m \u001b[0;34m\u001b[0m\u001b[0m\n\u001b[1;32m    180\u001b[0m     with temporary_clearer(), _display_stdin_widget(\n\u001b[0;32m--> 181\u001b[0;31m         delay_millis=500) as update_stdin_widget:\n\u001b[0m\u001b[1;32m    182\u001b[0m       \u001b[0;31m# TODO(b/115531839): Ensure that subprocesses are terminated upon\u001b[0m\u001b[0;34m\u001b[0m\u001b[0;34m\u001b[0m\u001b[0m\n\u001b[1;32m    183\u001b[0m       \u001b[0;31m# interrupt.\u001b[0m\u001b[0;34m\u001b[0m\u001b[0;34m\u001b[0m\u001b[0m\n",
            "\u001b[0;32m/usr/lib/python2.7/contextlib.pyc\u001b[0m in \u001b[0;36m__enter__\u001b[0;34m(self)\u001b[0m\n\u001b[1;32m     15\u001b[0m     \u001b[0;32mdef\u001b[0m \u001b[0m__enter__\u001b[0m\u001b[0;34m(\u001b[0m\u001b[0mself\u001b[0m\u001b[0;34m)\u001b[0m\u001b[0;34m:\u001b[0m\u001b[0;34m\u001b[0m\u001b[0m\n\u001b[1;32m     16\u001b[0m         \u001b[0;32mtry\u001b[0m\u001b[0;34m:\u001b[0m\u001b[0;34m\u001b[0m\u001b[0m\n\u001b[0;32m---> 17\u001b[0;31m             \u001b[0;32mreturn\u001b[0m \u001b[0mself\u001b[0m\u001b[0;34m.\u001b[0m\u001b[0mgen\u001b[0m\u001b[0;34m.\u001b[0m\u001b[0mnext\u001b[0m\u001b[0;34m(\u001b[0m\u001b[0;34m)\u001b[0m\u001b[0;34m\u001b[0m\u001b[0m\n\u001b[0m\u001b[1;32m     18\u001b[0m         \u001b[0;32mexcept\u001b[0m \u001b[0mStopIteration\u001b[0m\u001b[0;34m:\u001b[0m\u001b[0;34m\u001b[0m\u001b[0m\n\u001b[1;32m     19\u001b[0m             \u001b[0;32mraise\u001b[0m \u001b[0mRuntimeError\u001b[0m\u001b[0;34m(\u001b[0m\u001b[0;34m\"generator didn't yield\"\u001b[0m\u001b[0;34m)\u001b[0m\u001b[0;34m\u001b[0m\u001b[0m\n",
            "\u001b[0;32m/usr/local/lib/python2.7/dist-packages/google/colab/_system_commands.pyc\u001b[0m in \u001b[0;36m_display_stdin_widget\u001b[0;34m(delay_millis)\u001b[0m\n\u001b[1;32m    339\u001b[0m   \u001b[0mshell\u001b[0m \u001b[0;34m=\u001b[0m \u001b[0m_ipython\u001b[0m\u001b[0;34m.\u001b[0m\u001b[0mget_ipython\u001b[0m\u001b[0;34m(\u001b[0m\u001b[0;34m)\u001b[0m\u001b[0;34m\u001b[0m\u001b[0m\n\u001b[1;32m    340\u001b[0m   \u001b[0mdisplay_args\u001b[0m \u001b[0;34m=\u001b[0m \u001b[0;34m[\u001b[0m\u001b[0;34m'cell_display_stdin'\u001b[0m\u001b[0;34m,\u001b[0m \u001b[0;34m{\u001b[0m\u001b[0;34m'delayMillis'\u001b[0m\u001b[0;34m:\u001b[0m \u001b[0mdelay_millis\u001b[0m\u001b[0;34m}\u001b[0m\u001b[0;34m]\u001b[0m\u001b[0;34m\u001b[0m\u001b[0m\n\u001b[0;32m--> 341\u001b[0;31m   \u001b[0m_message\u001b[0m\u001b[0;34m.\u001b[0m\u001b[0mblocking_request\u001b[0m\u001b[0;34m(\u001b[0m\u001b[0;34m*\u001b[0m\u001b[0mdisplay_args\u001b[0m\u001b[0;34m,\u001b[0m \u001b[0mparent\u001b[0m\u001b[0;34m=\u001b[0m\u001b[0mshell\u001b[0m\u001b[0;34m.\u001b[0m\u001b[0mparent_header\u001b[0m\u001b[0;34m)\u001b[0m\u001b[0;34m\u001b[0m\u001b[0m\n\u001b[0m\u001b[1;32m    342\u001b[0m \u001b[0;34m\u001b[0m\u001b[0m\n\u001b[1;32m    343\u001b[0m   \u001b[0;32mdef\u001b[0m \u001b[0mecho_updater\u001b[0m\u001b[0;34m(\u001b[0m\u001b[0mnew_echo_status\u001b[0m\u001b[0;34m)\u001b[0m\u001b[0;34m:\u001b[0m\u001b[0;34m\u001b[0m\u001b[0m\n",
            "\u001b[0;32m/usr/local/lib/python2.7/dist-packages/google/colab/_message.pyc\u001b[0m in \u001b[0;36mblocking_request\u001b[0;34m(request_type, request, timeout_sec, parent)\u001b[0m\n\u001b[1;32m    169\u001b[0m   \u001b[0;31m# unique.\u001b[0m\u001b[0;34m\u001b[0m\u001b[0;34m\u001b[0m\u001b[0m\n\u001b[1;32m    170\u001b[0m   \u001b[0mrequest_id\u001b[0m \u001b[0;34m=\u001b[0m \u001b[0msend_request\u001b[0m\u001b[0;34m(\u001b[0m\u001b[0mrequest_type\u001b[0m\u001b[0;34m,\u001b[0m \u001b[0mrequest\u001b[0m\u001b[0;34m,\u001b[0m \u001b[0mparent\u001b[0m\u001b[0;34m=\u001b[0m\u001b[0mparent\u001b[0m\u001b[0;34m)\u001b[0m\u001b[0;34m\u001b[0m\u001b[0m\n\u001b[0;32m--> 171\u001b[0;31m   \u001b[0;32mreturn\u001b[0m \u001b[0mread_reply_from_input\u001b[0m\u001b[0;34m(\u001b[0m\u001b[0mrequest_id\u001b[0m\u001b[0;34m,\u001b[0m \u001b[0mtimeout_sec\u001b[0m\u001b[0;34m)\u001b[0m\u001b[0;34m\u001b[0m\u001b[0m\n\u001b[0m",
            "\u001b[0;32m/usr/local/lib/python2.7/dist-packages/google/colab/_message.pyc\u001b[0m in \u001b[0;36mread_reply_from_input\u001b[0;34m(message_id, timeout_sec)\u001b[0m\n\u001b[1;32m     99\u001b[0m     \u001b[0mreply\u001b[0m \u001b[0;34m=\u001b[0m \u001b[0m_read_next_input_message\u001b[0m\u001b[0;34m(\u001b[0m\u001b[0;34m)\u001b[0m\u001b[0;34m\u001b[0m\u001b[0m\n\u001b[1;32m    100\u001b[0m     \u001b[0;32mif\u001b[0m \u001b[0mreply\u001b[0m \u001b[0;34m==\u001b[0m \u001b[0m_NOT_READY\u001b[0m \u001b[0;32mor\u001b[0m \u001b[0;32mnot\u001b[0m \u001b[0misinstance\u001b[0m\u001b[0;34m(\u001b[0m\u001b[0mreply\u001b[0m\u001b[0;34m,\u001b[0m \u001b[0mdict\u001b[0m\u001b[0;34m)\u001b[0m\u001b[0;34m:\u001b[0m\u001b[0;34m\u001b[0m\u001b[0m\n\u001b[0;32m--> 101\u001b[0;31m       \u001b[0mtime\u001b[0m\u001b[0;34m.\u001b[0m\u001b[0msleep\u001b[0m\u001b[0;34m(\u001b[0m\u001b[0;36m0.025\u001b[0m\u001b[0;34m)\u001b[0m\u001b[0;34m\u001b[0m\u001b[0m\n\u001b[0m\u001b[1;32m    102\u001b[0m       \u001b[0;32mcontinue\u001b[0m\u001b[0;34m\u001b[0m\u001b[0m\n\u001b[1;32m    103\u001b[0m     if (reply.get('type') == 'colab_reply' and\n",
            "\u001b[0;31mKeyboardInterrupt\u001b[0m: "
          ]
        }
      ]
    },
    {
      "cell_type": "code",
      "metadata": {
        "id": "f_gr2UtHIfL9",
        "colab_type": "code",
        "colab": {}
      },
      "source": [
        "from google.colab import drive\n",
        "drive.mount('/content/drive')"
      ],
      "execution_count": 0,
      "outputs": []
    },
    {
      "cell_type": "code",
      "metadata": {
        "id": "6WV9bXQdYO9y",
        "colab_type": "code",
        "colab": {}
      },
      "source": [
        "drive.mount(\"/content/drive\", force_remount=True)"
      ],
      "execution_count": 0,
      "outputs": []
    },
    {
      "cell_type": "code",
      "metadata": {
        "id": "MIc4NSxanHrR",
        "colab_type": "code",
        "colab": {}
      },
      "source": [
        "!apt-get install -y -qq software-properties-common python-software-properties module-init-tools\n",
        "!add-apt-repository -y ppa:alessandro-strada/ppa 2>&1 > /dev/null\n",
        "!apt-get update -qq 2>&1 > /dev/null\n",
        "!apt-get -y install -qq google-drive-ocamlfuse fuse\n",
        "from google.colab import auth\n",
        "auth.authenticate_user()\n",
        "from oauth2client.client import GoogleCredentials\n",
        "creds = GoogleCredentials.get_application_default()\n",
        "import getpass\n",
        "!google-drive-ocamlfuse -headless -id={creds.client_id} -secret={creds.client_secret} < /dev/null 2>&1 | grep URL\n",
        "vcode = getpass.getpass()\n",
        "!echo {vcode} | google-drive-ocamlfuse -headless -id={creds.client_id} -secret={creds.client_secret}"
      ],
      "execution_count": 0,
      "outputs": []
    },
    {
      "cell_type": "code",
      "metadata": {
        "id": "lRfm-O22S7Tj",
        "colab_type": "code",
        "colab": {}
      },
      "source": [
        "\n",
        "%cd /content/drive/\"My Drive\"/TrackNet-master/Code/TrackNet_Three_Frames_Input \n",
        "!pwd"
      ],
      "execution_count": 0,
      "outputs": []
    },
    {
      "cell_type": "code",
      "metadata": {
        "id": "un5074h3scyY",
        "colab_type": "code",
        "colab": {}
      },
      "source": [
        "!python predict_video.py  --save_weights_path=weights/model.3 --input_video_path=\"fedNadal.mp4\" --output_video_path=\"fedNadal_TrackNet.mp4\" --n_classes=256 "
      ],
      "execution_count": 0,
      "outputs": []
    },
    {
      "cell_type": "markdown",
      "metadata": {
        "id": "p1xyfua39RCj",
        "colab_type": "text"
      },
      "source": [
        "# Tako Ball Tracker "
      ]
    },
    {
      "cell_type": "code",
      "metadata": {
        "id": "uIJH1isJ8gLH",
        "colab_type": "code",
        "colab": {}
      },
      "source": [
        "#tennis ball tracker from https://qiita.com/otakoma/items/04216c60fa31eae60947\n",
        "#right now overdetects lines, nets, the line for the first row of the audience, net, player, other people,\n",
        "\n",
        "import cv2\n",
        "import sys\n",
        "import numpy as np\n",
        "\n",
        "#dilate useful in joining broken parts of an object after erasing noise with erosion\n",
        "def dilation(dilationSize, kernelSize, img):  # 膨張した画像にして返す, return as an expanded image\n",
        "    kernel = np.ones((kernelSize, kernelSize), np.uint8)\n",
        "    #get a rectangulr kernel for use in dilation\n",
        "    element = cv2.getStructuringElement( \n",
        "        cv2.MORPH_RECT, (2 * dilationSize + 1, 2 * dilationSize + 1), (dilationSize, dilationSize))\n",
        "    #dilate: if all b, get b, else w, ie. bleed white into non-white areas\n",
        "    dilation_img = cv2.dilate(img, kernel, element)\n",
        "    #print(img, dilation_img)\n",
        "    return dilation_img\n",
        "\n",
        "#find ball in blob, returns a dilated img and array of ball pos\n",
        "#how is it discerning ball from players and other objects?\n",
        "def detect(gray_diff, thresh_diff=30, dilationSize=9, kernelSize=20):  # 一定面積以上の物体を検出\n",
        "    #change all pixels in grayscale image to white or black based on threshold, ie. dark grey is black, light grey is \n",
        "    #white \n",
        "    retval, black_diff = cv2.threshold(\n",
        "        gray_diff, thresh_diff, 255, cv2.THRESH_BINARY)  # 2値化\n",
        "    #bleed white into non-white\n",
        "    dilation_img = dilation(dilationSize, kernelSize, black_diff)  # 膨張処理 dilation, dilates ball\n",
        "    #print(\"28 dilation_img {}\".format(dilation_img))\n",
        "    img = dilation_img.copy()\n",
        "    #findContours finds, boundaries of image, \n",
        "    #outputs modified image, contours and hierarchy(each contour is array of coordinates of boundary pts)\n",
        "    #RETR_EXTERNAL gets the outer most contour of the shape\n",
        "    #CHAIN_APPROX_SIMPLE compresses contour to save memory, ie. 4 only saves 4 corners of rectangle\n",
        "    contours, hierarchy = cv2.findContours(\n",
        "        dilation_img, cv2.RETR_EXTERNAL, cv2.CHAIN_APPROX_SIMPLE)  # 境界線検出 \n",
        "    #print(\"36 findContours: {} \\n {} \\n {}\".format(image, contours, hierarchy))\n",
        "    #array of ball pos, x, y \n",
        "    ball_pos = []\n",
        "\n",
        "    for i in range(len(contours)):  # 重心位置を計算, calculate the center of the object ball\n",
        "        count = len(contours[i])\n",
        "        area = cv2.contourArea(contours[i])  # 面積計算\n",
        "        #print(\"43 area\".format(area))\n",
        "        x, y = 0.0, 0.0\n",
        "        for j in range(count):\n",
        "            x += contours[i][j][0][0]\n",
        "            y += contours[i][j][0][1]\n",
        "\n",
        "        x /= count\n",
        "        y /= count\n",
        "        x = int(x)\n",
        "        y = int(y)\n",
        "        ball_pos.append([x, y]) #adding the x,y of contour of the ball?\n",
        "\n",
        "    return ball_pos, img\n",
        "\n",
        "#show the circle bounding box\n",
        "def displayCircle(image, ballList, thickness=5):\n",
        "    for i in range(len(ballList)):\n",
        "        x = int(ballList[i][0])\n",
        "        y = int(ballList[i][1])\n",
        "        cv2.circle(image, (x, y), 10, (0, 0, 255), thickness)\n",
        "        #print(\"63 image {}\".format(image))\n",
        "    return image\n",
        "\n",
        "#resize images\n",
        "def resizeImage(image, w=2, h=2):\n",
        "    height = image.shape[0]\n",
        "    width = image.shape[1]\n",
        "    resizedImage = cv2.resize(image, (int(width / w), int(height / h)))\n",
        "    return resizedImage\n",
        "\n",
        "#resizing blob image to same as color image to concat\n",
        "#Make the binarized image the same as the color array size\n",
        "def blackToColor(bImage):\n",
        "    #print(\"76 bImage {}\".format(bImage))\n",
        "    colorImage = np.array((bImage, bImage, bImage))\n",
        "    colorImage = colorImage.transpose(1, 2, 0)\n",
        "    #print(\"79 colorImage {}\".format(colorImage))\n",
        "    return colorImage\n",
        "\n",
        "\n",
        "def run(input_video_path, output_video_path):\n",
        "    video = cv2.VideoCapture(input_video_path)  # read video file\n",
        "    #fourcc = cv2.VideoWriter_fourcc(*'MJPG')\n",
        "    fourcc = cv2.VideoWriter_fourcc(*'XVID')\n",
        "\n",
        "    if not video.isOpened():  # ファイルがオープンできない場合の処理.\n",
        "        print(\"Could not open video\")\n",
        "        sys.exit()\n",
        "\n",
        "    vidw = video.get(cv2.CAP_PROP_FRAME_WIDTH)\n",
        "    vidh = video.get(cv2.CAP_PROP_FRAME_HEIGHT)\n",
        "    out = cv2.VideoWriter(output_video_path, fourcc, 20.0, #fps\n",
        "                          (int(vidw), int(vidh)))  # 出力先のファイルを開く\n",
        "\n",
        "    ok, frame = video.read()  # 最初のフレームを読み込む\n",
        "    if not ok:\n",
        "        print('Cannot read video file')\n",
        "        sys.exit()\n",
        "    #resize * 2##############################\n",
        "    height, width, layers = frame.shape\n",
        "    new_h = height * 2\n",
        "    new_w = width * 2\n",
        "    frame = cv2.resize(frame, (new_w, new_h))\n",
        "\n",
        "    frame_pre = frame.copy()\n",
        "\n",
        "    while True:\n",
        "        ok, frame = video.read()  # フレームを読み込む\n",
        "        if not ok:\n",
        "            break\n",
        "        #resize * 2##############################\n",
        "        height, width, layers = frame.shape\n",
        "        new_h = height * 2\n",
        "        new_w = width * 2\n",
        "        frame = cv2.resize(frame, (new_w, new_h))\n",
        "        frame_next = frame.copy()\n",
        "\n",
        "        #difference frames\n",
        "        color_diff = cv2.absdiff(frame_next, frame_pre)  # フレーム間の差分計算\n",
        "        #print(\"color_diff {}\".format(color_diff))\n",
        "        gray_diff = cv2.cvtColor(color_diff, cv2.COLOR_BGR2GRAY)  # グレースケール変換\n",
        "        #print(\"gray_diff {}\".format(gray_diff))\n",
        "\n",
        "        #turn the grayscale diff frame into b and w\n",
        "        retval, black_diff = cv2.threshold(\n",
        "            gray_diff, 30, 255, cv2.THRESH_BINARY)#ThreshBinary is black if higher, else white \n",
        "        #print(\"black_diff {}\".format(black_diff))\n",
        "        #detect ball\n",
        "        ball, dilation_img = detect(gray_diff)\n",
        "        #print(\"ball {} \\n\\n dilation_img {}\".format(ball, dilation_img))\n",
        "        #takes one frame and puts circles around ball\n",
        "        frame = displayCircle(frame, ball, 2)  # 丸で加工\n",
        "        #print(\"frame with circle {}\".format(frame))\n",
        "\n",
        "        #Make the binarized image the same as the color array size\n",
        "        cImage = blackToColor(dilation_img)  # 2値化画像をカラーの配列サイズと同じにする\n",
        "        #print(\"141 dilation_img {} \\n after: cImage {}\".format(dilation_img, cImage))\n",
        "        im1 = resizeImage(frame, 2, 2) \n",
        "        im2 = resizeImage(cImage, 2, 2)\n",
        "        im_h = cv2.hconcat([im1, im2])  # 画像を横方向に連結\n",
        "\n",
        "        #cv2.imshow(\"Tracking\", im_h)  # フレームを画面表示\n",
        "        out.write(im_h)\n",
        "\n",
        "        frame_pre = frame_next.copy()  # 次のフレームの読み込み\n",
        "\n",
        "        k = cv2.waitKey(1) & 0xff  # ESCを押したら中止\n",
        "        if k == 27:\n",
        "            break\n",
        "\n",
        "    video.release()\n",
        "    out.release()\n",
        "    cv2.destroyAllWindows()\n",
        "\n",
        "\n",
        "if __name__ == '__main__':\n",
        "    inputFile=\"fedNadal.mp4\"\n",
        "    outputFile=\"fedNadal-tako.avi\"\n",
        "    run(inputFile, outputFile)\n"
      ],
      "execution_count": 0,
      "outputs": []
    }
  ]
}